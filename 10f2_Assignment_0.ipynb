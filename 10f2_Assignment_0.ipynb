{
  "nbformat": 4,
  "nbformat_minor": 0,
  "metadata": {
    "colab": {
      "provenance": [],
      "authorship_tag": "ABX9TyNHcBdw+q1j65OzqozeFK2F",
      "include_colab_link": true
    },
    "kernelspec": {
      "name": "python3",
      "display_name": "Python 3"
    },
    "language_info": {
      "name": "python"
    }
  },
  "cells": [
    {
      "cell_type": "markdown",
      "metadata": {
        "id": "view-in-github",
        "colab_type": "text"
      },
      "source": [
        "<a href=\"https://colab.research.google.com/github/AnithaKandugula/ADM/blob/main/10f2_Assignment_0.ipynb\" target=\"_parent\"><img src=\"https://colab.research.google.com/assets/colab-badge.svg\" alt=\"Open In Colab\"/></a>"
      ]
    },
    {
      "cell_type": "code",
      "execution_count": 8,
      "metadata": {
        "colab": {
          "base_uri": "https://localhost:8080/"
        },
        "id": "lQGxwBKkTkM-",
        "outputId": "63facd3c-0811-4d5e-f7bf-66de25f8091a"
      },
      "outputs": [
        {
          "output_type": "stream",
          "name": "stdout",
          "text": [
            "       longitude  latitude  housing_median_age  total_rooms  total_bedrooms  \\\n",
            "0        -114.31     34.19                15.0       5612.0          1283.0   \n",
            "1        -114.47     34.40                19.0       7650.0          1901.0   \n",
            "2        -114.56     33.69                17.0        720.0           174.0   \n",
            "3        -114.57     33.64                14.0       1501.0           337.0   \n",
            "4        -114.57     33.57                20.0       1454.0           326.0   \n",
            "...          ...       ...                 ...          ...             ...   \n",
            "16995    -124.26     40.58                52.0       2217.0           394.0   \n",
            "16996    -124.27     40.69                36.0       2349.0           528.0   \n",
            "16997    -124.30     41.84                17.0       2677.0           531.0   \n",
            "16998    -124.30     41.80                19.0       2672.0           552.0   \n",
            "16999    -124.35     40.54                52.0       1820.0           300.0   \n",
            "\n",
            "       population  households  median_income  median_house_value  \n",
            "0          1015.0       472.0         1.4936             66900.0  \n",
            "1          1129.0       463.0         1.8200             80100.0  \n",
            "2           333.0       117.0         1.6509             85700.0  \n",
            "3           515.0       226.0         3.1917             73400.0  \n",
            "4           624.0       262.0         1.9250             65500.0  \n",
            "...           ...         ...            ...                 ...  \n",
            "16995       907.0       369.0         2.3571            111400.0  \n",
            "16996      1194.0       465.0         2.5179             79000.0  \n",
            "16997      1244.0       456.0         3.0313            103600.0  \n",
            "16998      1298.0       478.0         1.9797             85800.0  \n",
            "16999       806.0       270.0         3.0147             94600.0  \n",
            "\n",
            "[17000 rows x 9 columns]\n",
            "       longitude  latitude  housing_median_age  total_rooms  total_bedrooms  \\\n",
            "12168    -121.45     38.53                38.0       1746.0           388.0   \n",
            "11672    -121.30     38.68                19.0       2655.0           438.0   \n",
            "2194     -117.38     33.98                52.0       2274.0           571.0   \n",
            "11974    -121.38     38.49                11.0       8537.0          1643.0   \n",
            "111      -115.73     33.09                27.0        452.0           103.0   \n",
            "...          ...       ...                 ...          ...             ...   \n",
            "14000    -122.04     37.34                25.0       1994.0           287.0   \n",
            "11050    -120.97     37.65                16.0       3960.0           716.0   \n",
            "3140     -117.83     33.81                28.0       1972.0           315.0   \n",
            "2023     -117.32     34.12                37.0       2868.0           574.0   \n",
            "7166     -118.33     34.24                31.0       6434.0          1188.0   \n",
            "\n",
            "       population  households  median_income  \n",
            "12168      1142.0       315.0         1.7714  \n",
            "11672      1253.0       454.0         5.2817  \n",
            "2194       1167.0       504.0         2.0284  \n",
            "11974      4224.0      1648.0         2.9647  \n",
            "111         258.0        61.0         2.9000  \n",
            "...           ...         ...            ...  \n",
            "14000       704.0       283.0         7.7799  \n",
            "11050      1776.0       724.0         3.9886  \n",
            "3140        970.0       326.0         5.4298  \n",
            "2023       2055.0       563.0         2.3508  \n",
            "7166       3540.0      1131.0         4.2639  \n",
            "\n",
            "[13600 rows x 8 columns]\n",
            "       longitude  latitude  housing_median_age  total_rooms  total_bedrooms  \\\n",
            "16302    -122.50     38.35                25.0       1566.0           352.0   \n",
            "12027    -121.41     39.04                16.0       1698.0           300.0   \n",
            "14221    -122.08     37.63                33.0        691.0           127.0   \n",
            "9046     -118.97     35.36                31.0       1418.0           306.0   \n",
            "15754    -122.41     38.07                20.0       4536.0           708.0   \n",
            "...          ...       ...                 ...          ...             ...   \n",
            "10300    -120.06     39.09                30.0       2979.0           583.0   \n",
            "1879     -117.28     34.09                44.0        376.0            87.0   \n",
            "14474    -122.14     38.07                31.0       3401.0           616.0   \n",
            "6537     -118.27     33.80                38.0       1446.0           327.0   \n",
            "2720     -117.69     34.05                10.0       1875.0           366.0   \n",
            "\n",
            "       population  households  median_income  \n",
            "16302       784.0       362.0         3.0750  \n",
            "12027       731.0       291.0         3.0739  \n",
            "14221       431.0       149.0         4.2500  \n",
            "9046       1219.0       312.0         1.5743  \n",
            "15754      1812.0       701.0         6.0433  \n",
            "...           ...         ...            ...  \n",
            "10300       316.0       124.0         2.1987  \n",
            "1879        273.0       107.0         2.2917  \n",
            "14474      1750.0       602.0         4.6761  \n",
            "6537        980.0       319.0         3.3500  \n",
            "2720       1055.0       363.0         4.3264  \n",
            "\n",
            "[3400 rows x 8 columns]\n",
            "12168     69900.0\n",
            "11672    140600.0\n",
            "2194     101600.0\n",
            "11974    108900.0\n",
            "111       87500.0\n",
            "           ...   \n",
            "14000    447300.0\n",
            "11050    137500.0\n",
            "3140     234200.0\n",
            "2023      70500.0\n",
            "7166     293300.0\n",
            "Name: median_house_value, Length: 13600, dtype: float64\n",
            "16302    165100.0\n",
            "12027     87200.0\n",
            "14221    192600.0\n",
            "9046      46700.0\n",
            "15754    435900.0\n",
            "           ...   \n",
            "10300    124000.0\n",
            "1879      90800.0\n",
            "14474    143100.0\n",
            "6537     177700.0\n",
            "2720     128900.0\n",
            "Name: median_house_value, Length: 3400, dtype: float64\n",
            "0.6318701768242295\n",
            "[184424.55838437  89559.30248451 239057.43025191 ... 243505.11794682\n",
            " 212698.85525134 184229.63603387]\n",
            "16302    165100.0\n",
            "12027     87200.0\n",
            "14221    192600.0\n",
            "9046      46700.0\n",
            "15754    435900.0\n",
            "           ...   \n",
            "10300    124000.0\n",
            "1879      90800.0\n",
            "14474    143100.0\n",
            "6537     177700.0\n",
            "2720     128900.0\n",
            "Name: median_house_value, Length: 3400, dtype: float64\n",
            "5104828542.570514\n",
            "51914.33558582857\n",
            "71448.08284741106\n"
          ]
        }
      ],
      "source": [
        "import pandas as pd\n",
        "from sklearn.model_selection import train_test_split\n",
        "from sklearn.linear_model import LinearRegression\n",
        "from sklearn.metrics import mean_squared_error,mean_absolute_error,root_mean_squared_error\n",
        "data=pd.read_csv('california_housing_train.csv')\n",
        "print(data)\n",
        "y=data['median_house_value']#dependent\n",
        "x=data.drop(columns=['median_house_value'],axis=1)#independent\n",
        "x_train,x_test,y_train,y_test=train_test_split(x,y,test_size=0.2)\n",
        "print(x_train)\n",
        "print(x_test)\n",
        "print(y_train)\n",
        "print(y_test)\n",
        "model=LinearRegression()\n",
        "model.fit(x_train,y_train)\n",
        "print(model.score(x_test,y_test))\n",
        "print(model.predict(x_test))\n",
        "print(y_test)\n",
        "print(mean_squared_error(y_test,model.predict(x_test)))\n",
        "print(mean_absolute_error(y_test,model.predict(x_test)))\n",
        "print(root_mean_squared_error(y_test,model.predict(x_test)))\n",
        "\n",
        "\n",
        "\n",
        "\n"
      ]
    },
    {
      "cell_type": "code",
      "source": [
        "from sklearn.svm import SVR\n",
        "model=SVR()\n",
        "model.fit(x_train,y_train)\n",
        "print(model.score(x_test,y_test))"
      ],
      "metadata": {
        "colab": {
          "base_uri": "https://localhost:8080/"
        },
        "id": "O2N-3TSPdE8g",
        "outputId": "59de92e0-8be3-4fe5-9451-3de7765c3bda"
      },
      "execution_count": 9,
      "outputs": [
        {
          "output_type": "stream",
          "name": "stdout",
          "text": [
            "-0.060376964515385545\n"
          ]
        }
      ]
    },
    {
      "cell_type": "code",
      "source": [
        "from sklearn.ensemble import RandomForestRegressor\n",
        "model=RandomForestRegressor()\n",
        "model.fit(x_train,y_train)\n",
        "print(model.score(x_test,y_test))"
      ],
      "metadata": {
        "colab": {
          "base_uri": "https://localhost:8080/"
        },
        "id": "3vOElyFxdSUS",
        "outputId": "8635d19a-fa64-408f-a2df-067ee5cbabfa"
      },
      "execution_count": 10,
      "outputs": [
        {
          "output_type": "stream",
          "name": "stdout",
          "text": [
            "0.8149827241645247\n"
          ]
        }
      ]
    },
    {
      "cell_type": "code",
      "source": [
        "from sklearn.tree import DecisionTreeRegressor\n",
        "model=DecisionTreeRegressor()\n",
        "model.fit(x_train,y_train)\n",
        "print(model.score(x_test,y_test))"
      ],
      "metadata": {
        "colab": {
          "base_uri": "https://localhost:8080/"
        },
        "id": "SBTtvdlhdovZ",
        "outputId": "6f45fb7c-5c58-44e2-f062-6f4fab30eb40"
      },
      "execution_count": 11,
      "outputs": [
        {
          "output_type": "stream",
          "name": "stdout",
          "text": [
            "0.6340201233056215\n"
          ]
        }
      ]
    },
    {
      "cell_type": "code",
      "source": [
        "from sklearn.neighbors import KNeighborsRegressor\n",
        "model=KNeighborsRegressor()\n",
        "model.fit(x_train,y_train)\n",
        "print(model.score(x_test,y_test))"
      ],
      "metadata": {
        "colab": {
          "base_uri": "https://localhost:8080/"
        },
        "id": "B0Tr6e0eeLuX",
        "outputId": "155a26ab-6b94-4e20-bde7-56b1e3ae312b"
      },
      "execution_count": 12,
      "outputs": [
        {
          "output_type": "stream",
          "name": "stdout",
          "text": [
            "0.25673881221103134\n"
          ]
        }
      ]
    }
  ]
}